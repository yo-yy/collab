{
  "nbformat": 4,
  "nbformat_minor": 0,
  "metadata": {
    "colab": {
      "provenance": [],
      "include_colab_link": true
    },
    "kernelspec": {
      "name": "ir",
      "display_name": "R"
    },
    "language_info": {
      "name": "R"
    }
  },
  "cells": [
    {
      "cell_type": "markdown",
      "metadata": {
        "id": "view-in-github",
        "colab_type": "text"
      },
      "source": [
        "<a href=\"https://colab.research.google.com/github/yo-yy/collab/blob/main/lb_2_ipynb%22.ipynb\" target=\"_parent\"><img src=\"https://colab.research.google.com/assets/colab-badge.svg\" alt=\"Open In Colab\"/></a>"
      ]
    },
    {
      "cell_type": "markdown",
      "source": [
        "**Задание**:\n",
        "Создать фрейм данных из N записей со следующими полями: Nrow – номер записи, Name – имя сотрудника, BirthYear – год рождения, EmployYear – год приема на работу, Salary – зарплата. Заполнить данный фрейм данными так, что Nrow изменяется от 1 до N. Name задается произвольно, BirthYear распределено равномерно (случайно) на отрезке [1965, 1990], EmployYear распределен равномерно на отрезке [BirthYear+18, 2006], Salary задается произвольно в интервале от 10000 до 30000. Подсчитать число сотрудников с зарплатой, больше 15000.\n",
        "Добавить в таблицу поле, соответствующее суммарному подоходному налогу (ставка 13%), выплаченному сотрудником за время работы в организации."
      ],
      "metadata": {
        "id": "jDbIO9HQWuVl"
      }
    },
    {
      "cell_type": "code",
      "execution_count": null,
      "metadata": {
        "id": "ZpmwzCESWj96"
      },
      "outputs": [],
      "source": [
        "# исходное число записей и последовательность для нумерации\n",
        "N <- 100\n",
        "Nrow <- 1:N"
      ]
    },
    {
      "cell_type": "code",
      "source": [
        "# формирование вектора случайно сгенерированных имен\n",
        "gen_name <- function(x) {\n",
        "  # lists of names examples\n",
        "  name_list <- c(\"John\", \"Sue\", \"Bob\", \"Charley\")\n",
        "  surname_list<- c(\"Wilson\", \"Burton\", \"Robinson\", \"Jackson\")\n",
        "\n",
        "  names_len <- length(name_list)\n",
        "\n",
        "  emp_name <- paste(\n",
        "    name_list[sample(1:names_len, 1)],\n",
        "    surname_list[sample(1:names_len, 1)]\n",
        "  )\n",
        "  emp_name\n",
        "}\n",
        "\n",
        "Name <- sapply(Nrow, gen_name)"
      ],
      "metadata": {
        "id": "EjeTZbtzXAM5"
      },
      "execution_count": null,
      "outputs": []
    },
    {
      "cell_type": "code",
      "source": [
        "# остальные вектора\n",
        "gen_empl_year <- function(birthday) {\n",
        "  sample((birthday + 18):2006, 1)\n",
        "}\n",
        "\n",
        "BirthYear <- sample(1965:1990, N, replace=T)\n",
        "\n",
        "EmployYear <- sapply(BirthYear, gen_empl_year)\n",
        "\n",
        "Salary <- sample(10000:30000, N, replace=T)"
      ],
      "metadata": {
        "id": "vGVg_jk6XGBV"
      },
      "execution_count": null,
      "outputs": []
    },
    {
      "cell_type": "code",
      "source": [
        "# собираем датафрейм и выводим его\n",
        "df <- data.frame(\n",
        "  Nrow=Nrow,\n",
        "  Name=Name,\n",
        "  BirthYear=BirthYear,\n",
        "  EmployYear=EmployYear,\n",
        "  Salary=Salary\n",
        ")\n",
        "\n",
        "head(df)"
      ],
      "metadata": {
        "colab": {
          "base_uri": "https://localhost:8080/",
          "height": 286
        },
        "id": "Nv19R-hAXLAv",
        "outputId": "474f6ebb-d639-4194-8157-17e6db93934f"
      },
      "execution_count": null,
      "outputs": [
        {
          "output_type": "display_data",
          "data": {
            "text/html": [
              "<table class=\"dataframe\">\n",
              "<caption>A data.frame: 6 × 5</caption>\n",
              "<thead>\n",
              "\t<tr><th></th><th scope=col>Nrow</th><th scope=col>Name</th><th scope=col>BirthYear</th><th scope=col>EmployYear</th><th scope=col>Salary</th></tr>\n",
              "\t<tr><th></th><th scope=col>&lt;int&gt;</th><th scope=col>&lt;chr&gt;</th><th scope=col>&lt;int&gt;</th><th scope=col>&lt;int&gt;</th><th scope=col>&lt;int&gt;</th></tr>\n",
              "</thead>\n",
              "<tbody>\n",
              "\t<tr><th scope=row>1</th><td>1</td><td>Bob Burton    </td><td>1967</td><td>2005</td><td>26810</td></tr>\n",
              "\t<tr><th scope=row>2</th><td>2</td><td>Charley Wilson</td><td>1978</td><td>2002</td><td>16328</td></tr>\n",
              "\t<tr><th scope=row>3</th><td>3</td><td>Sue Jackson   </td><td>1965</td><td>1985</td><td>13713</td></tr>\n",
              "\t<tr><th scope=row>4</th><td>4</td><td>Bob Robinson  </td><td>1969</td><td>1993</td><td>15553</td></tr>\n",
              "\t<tr><th scope=row>5</th><td>5</td><td>Sue Burton    </td><td>1969</td><td>2006</td><td>12690</td></tr>\n",
              "\t<tr><th scope=row>6</th><td>6</td><td>John Jackson  </td><td>1982</td><td>2000</td><td>22312</td></tr>\n",
              "</tbody>\n",
              "</table>\n"
            ],
            "text/markdown": "\nA data.frame: 6 × 5\n\n| <!--/--> | Nrow &lt;int&gt; | Name &lt;chr&gt; | BirthYear &lt;int&gt; | EmployYear &lt;int&gt; | Salary &lt;int&gt; |\n|---|---|---|---|---|---|\n| 1 | 1 | Bob Burton     | 1967 | 2005 | 26810 |\n| 2 | 2 | Charley Wilson | 1978 | 2002 | 16328 |\n| 3 | 3 | Sue Jackson    | 1965 | 1985 | 13713 |\n| 4 | 4 | Bob Robinson   | 1969 | 1993 | 15553 |\n| 5 | 5 | Sue Burton     | 1969 | 2006 | 12690 |\n| 6 | 6 | John Jackson   | 1982 | 2000 | 22312 |\n\n",
            "text/latex": "A data.frame: 6 × 5\n\\begin{tabular}{r|lllll}\n  & Nrow & Name & BirthYear & EmployYear & Salary\\\\\n  & <int> & <chr> & <int> & <int> & <int>\\\\\n\\hline\n\t1 & 1 & Bob Burton     & 1967 & 2005 & 26810\\\\\n\t2 & 2 & Charley Wilson & 1978 & 2002 & 16328\\\\\n\t3 & 3 & Sue Jackson    & 1965 & 1985 & 13713\\\\\n\t4 & 4 & Bob Robinson   & 1969 & 1993 & 15553\\\\\n\t5 & 5 & Sue Burton     & 1969 & 2006 & 12690\\\\\n\t6 & 6 & John Jackson   & 1982 & 2000 & 22312\\\\\n\\end{tabular}\n",
            "text/plain": [
              "  Nrow Name           BirthYear EmployYear Salary\n",
              "1 1    Bob Burton     1967      2005       26810 \n",
              "2 2    Charley Wilson 1978      2002       16328 \n",
              "3 3    Sue Jackson    1965      1985       13713 \n",
              "4 4    Bob Robinson   1969      1993       15553 \n",
              "5 5    Sue Burton     1969      2006       12690 \n",
              "6 6    John Jackson   1982      2000       22312 "
            ]
          },
          "metadata": {}
        }
      ]
    },
    {
      "cell_type": "code",
      "source": [
        "salary_cmp_count <- nrow(df[df$Salary > 15000,])\n",
        "cat(sprintf(\"Число сотрудников с зарплатой, больше 15000: %i\", salary_cmp_count))"
      ],
      "metadata": {
        "colab": {
          "base_uri": "https://localhost:8080/"
        },
        "id": "gFApvfz4XSwT",
        "outputId": "d5701ce9-a13a-4d72-97cb-3b777a4a3053"
      },
      "execution_count": null,
      "outputs": [
        {
          "output_type": "stream",
          "name": "stdout",
          "text": [
            "Число сотрудников с зарплатой, больше 15000: 79"
          ]
        }
      ]
    },
    {
      "cell_type": "code",
      "source": [
        "# расчет суммарного подоходного налога за все время работы в организации\n",
        "currrent_year <- as.numeric(format(Sys.Date(), format=\"%Y\"))\n",
        "df$TotalIncomeTax <- with(df, (currrent_year - EmployYear)*Salary*0.13)\n",
        "\n",
        "# финальный результат\n",
        "head(df)"
      ],
      "metadata": {
        "colab": {
          "base_uri": "https://localhost:8080/",
          "height": 286
        },
        "id": "o9kMMw4AXWZ9",
        "outputId": "fee47e63-94a7-4034-aea5-f61fe0555536"
      },
      "execution_count": null,
      "outputs": [
        {
          "output_type": "display_data",
          "data": {
            "text/html": [
              "<table class=\"dataframe\">\n",
              "<caption>A data.frame: 6 × 6</caption>\n",
              "<thead>\n",
              "\t<tr><th></th><th scope=col>Nrow</th><th scope=col>Name</th><th scope=col>BirthYear</th><th scope=col>EmployYear</th><th scope=col>Salary</th><th scope=col>TotalIncomeTax</th></tr>\n",
              "\t<tr><th></th><th scope=col>&lt;int&gt;</th><th scope=col>&lt;chr&gt;</th><th scope=col>&lt;int&gt;</th><th scope=col>&lt;int&gt;</th><th scope=col>&lt;int&gt;</th><th scope=col>&lt;dbl&gt;</th></tr>\n",
              "</thead>\n",
              "<tbody>\n",
              "\t<tr><th scope=row>1</th><td>1</td><td>Bob Burton    </td><td>1967</td><td>2005</td><td>26810</td><td>59250.10</td></tr>\n",
              "\t<tr><th scope=row>2</th><td>2</td><td>Charley Wilson</td><td>1978</td><td>2002</td><td>16328</td><td>42452.80</td></tr>\n",
              "\t<tr><th scope=row>3</th><td>3</td><td>Sue Jackson   </td><td>1965</td><td>1985</td><td>13713</td><td>65959.53</td></tr>\n",
              "\t<tr><th scope=row>4</th><td>4</td><td>Bob Robinson  </td><td>1969</td><td>1993</td><td>15553</td><td>58634.81</td></tr>\n",
              "\t<tr><th scope=row>5</th><td>5</td><td>Sue Burton    </td><td>1969</td><td>2006</td><td>12690</td><td>26395.20</td></tr>\n",
              "\t<tr><th scope=row>6</th><td>6</td><td>John Jackson  </td><td>1982</td><td>2000</td><td>22312</td><td>63812.32</td></tr>\n",
              "</tbody>\n",
              "</table>\n"
            ],
            "text/markdown": "\nA data.frame: 6 × 6\n\n| <!--/--> | Nrow &lt;int&gt; | Name &lt;chr&gt; | BirthYear &lt;int&gt; | EmployYear &lt;int&gt; | Salary &lt;int&gt; | TotalIncomeTax &lt;dbl&gt; |\n|---|---|---|---|---|---|---|\n| 1 | 1 | Bob Burton     | 1967 | 2005 | 26810 | 59250.10 |\n| 2 | 2 | Charley Wilson | 1978 | 2002 | 16328 | 42452.80 |\n| 3 | 3 | Sue Jackson    | 1965 | 1985 | 13713 | 65959.53 |\n| 4 | 4 | Bob Robinson   | 1969 | 1993 | 15553 | 58634.81 |\n| 5 | 5 | Sue Burton     | 1969 | 2006 | 12690 | 26395.20 |\n| 6 | 6 | John Jackson   | 1982 | 2000 | 22312 | 63812.32 |\n\n",
            "text/latex": "A data.frame: 6 × 6\n\\begin{tabular}{r|llllll}\n  & Nrow & Name & BirthYear & EmployYear & Salary & TotalIncomeTax\\\\\n  & <int> & <chr> & <int> & <int> & <int> & <dbl>\\\\\n\\hline\n\t1 & 1 & Bob Burton     & 1967 & 2005 & 26810 & 59250.10\\\\\n\t2 & 2 & Charley Wilson & 1978 & 2002 & 16328 & 42452.80\\\\\n\t3 & 3 & Sue Jackson    & 1965 & 1985 & 13713 & 65959.53\\\\\n\t4 & 4 & Bob Robinson   & 1969 & 1993 & 15553 & 58634.81\\\\\n\t5 & 5 & Sue Burton     & 1969 & 2006 & 12690 & 26395.20\\\\\n\t6 & 6 & John Jackson   & 1982 & 2000 & 22312 & 63812.32\\\\\n\\end{tabular}\n",
            "text/plain": [
              "  Nrow Name           BirthYear EmployYear Salary TotalIncomeTax\n",
              "1 1    Bob Burton     1967      2005       26810  59250.10      \n",
              "2 2    Charley Wilson 1978      2002       16328  42452.80      \n",
              "3 3    Sue Jackson    1965      1985       13713  65959.53      \n",
              "4 4    Bob Robinson   1969      1993       15553  58634.81      \n",
              "5 5    Sue Burton     1969      2006       12690  26395.20      \n",
              "6 6    John Jackson   1982      2000       22312  63812.32      "
            ]
          },
          "metadata": {}
        }
      ]
    }
  ]
}